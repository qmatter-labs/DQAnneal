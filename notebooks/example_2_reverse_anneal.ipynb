{
 "cells": [
  {
   "cell_type": "code",
   "execution_count": 1,
   "metadata": {},
   "outputs": [],
   "source": [
    "import networkx as nx\n",
    "import dwave_networkx as dnx\n",
    "\n",
    "from dqanneal.graph.embed import (get_problem_graph, \n",
    "                                  embed_problem_onto_hardware, \n",
    "                                  define_embedded_qubo_problem,\n",
    "                                  unembed_samples,\n",
    "                                  build_reverse_annealing_schedule_embedding)\n",
    "from dqanneal.solvers.solvers import dimod_optimizer_cloud, save_annealing_results"
   ]
  },
  {
   "cell_type": "code",
   "execution_count": 2,
   "metadata": {},
   "outputs": [
    {
     "name": "stdout",
     "output_type": "stream",
     "text": [
      "0.12.18\n",
      "0.2.16\n",
      "8.1.0\n"
     ]
    }
   ],
   "source": [
    "import dimod\n",
    "import minorminer\n",
    "import dwave # same as: dwave-ocean-sdk  \n",
    "import dwaveoceansdk\n",
    "\n",
    "\n",
    "print(dimod.__version__)\n",
    "print(minorminer.__version__)\n",
    "print(dwaveoceansdk.__version__)\n"
   ]
  },
  {
   "cell_type": "markdown",
   "metadata": {},
   "source": [
    "# Define the QUBO problem"
   ]
  },
  {
   "cell_type": "code",
   "execution_count": 3,
   "metadata": {},
   "outputs": [],
   "source": [
    "dwave_qubo = {\n",
    "    (0, 0):  -1,\n",
    "    (0, 1):   2,\n",
    "    (0, 2):  -3,\n",
    "    (0, 3):   4,\n",
    "    (0, 4):  -5,\n",
    "    (0, 5):   6,\n",
    "    (0, 6):  -7,\n",
    "    (0, 7):   8,\n",
    "    (0, 8):  -9,\n",
    "    (0, 9):   10,\n",
    "    (0, 10): -11,\n",
    "    (0, 11):  12,\n",
    "    (0, 12): -13,\n",
    "    (0, 13):  14,\n",
    "    (0, 14): -15,\n",
    "    (0, 15):  16,\n",
    "    (0, 16): -17,\n",
    "    (0, 17):  18,\n",
    "    (0, 18): -19,\n",
    "    (0, 19):  20,\n",
    "    (0, 20): -21,\n",
    "    (4, 16):  22,\n",
    "    (1, 19): -23,\n",
    "    }"
   ]
  },
  {
   "cell_type": "code",
   "execution_count": 4,
   "metadata": {},
   "outputs": [
    {
     "name": "stdout",
     "output_type": "stream",
     "text": [
      "numbera of variables: 21\n"
     ]
    }
   ],
   "source": [
    "source_bqm = dimod.BinaryQuadraticModel.from_qubo(dwave_qubo)\n",
    "print(f'numbera of variables: {len(source_bqm.variables)}')"
   ]
  },
  {
   "cell_type": "code",
   "execution_count": 5,
   "metadata": {},
   "outputs": [
    {
     "data": {
      "text/plain": [
       "{(0, 1): np.float64(2.0),\n",
       " (0, 2): np.float64(-3.0),\n",
       " (0, 3): np.float64(4.0),\n",
       " (0, 4): np.float64(-5.0),\n",
       " (0, 5): np.float64(6.0),\n",
       " (0, 6): np.float64(-7.0),\n",
       " (0, 7): np.float64(8.0),\n",
       " (0, 8): np.float64(-9.0),\n",
       " (0, 9): np.float64(10.0),\n",
       " (0, 10): np.float64(-11.0),\n",
       " (0, 11): np.float64(12.0),\n",
       " (0, 12): np.float64(-13.0),\n",
       " (0, 13): np.float64(14.0),\n",
       " (0, 14): np.float64(-15.0),\n",
       " (0, 15): np.float64(16.0),\n",
       " (0, 16): np.float64(-17.0),\n",
       " (0, 17): np.float64(18.0),\n",
       " (0, 18): np.float64(-19.0),\n",
       " (0, 19): np.float64(20.0),\n",
       " (0, 20): np.float64(-21.0),\n",
       " (1, 19): np.float64(-23.0),\n",
       " (4, 16): np.float64(22.0)}"
      ]
     },
     "execution_count": 5,
     "metadata": {},
     "output_type": "execute_result"
    }
   ],
   "source": [
    "problem_graph, problem_edge_dict = get_problem_graph(dwave_qubo)\n",
    "nx.get_edge_attributes(problem_graph, \"bias\")"
   ]
  },
  {
   "cell_type": "markdown",
   "metadata": {},
   "source": [
    "# build a hardware graph"
   ]
  },
  {
   "cell_type": "code",
   "execution_count": null,
   "metadata": {},
   "outputs": [],
   "source": [
    "### need to setup dwave leap token access for this\n",
    "\n",
    "# from dwave.system.samplers import DWaveSampler\n",
    "# import networkx as nx\n",
    "# sampler_dw = DWaveSampler(solver={'topology__type': 'pegasus'})\n",
    "# G = nx.from_dict_of_lists(sampler_dw.adjacency)\n",
    "# edge_dict = {node: set(G.neighbors(node)) for node in G.nodes}"
   ]
  },
  {
   "cell_type": "code",
   "execution_count": 6,
   "metadata": {},
   "outputs": [],
   "source": [
    "# https://docs.ocean.dwavesys.com/en/latest/docs_dnx/reference/generators.html\n",
    "# G = dnx.chimera_graph(1, 1, 4)\n",
    "# G = dnx.zephyr_graph(6)\n",
    "\n",
    "# https://github.com/dwave-examples/pegasus-notebook/blob/master/01-exploring-pegasus.ipynb\n",
    "hardware_graph = dnx.pegasus_graph(16)\n",
    "hardware_graph_edge_dict = {node: set(hardware_graph.neighbors(node)) for node in hardware_graph.nodes}"
   ]
  },
  {
   "cell_type": "markdown",
   "metadata": {},
   "source": [
    "# embed given problem onto hardware graph"
   ]
  },
  {
   "cell_type": "code",
   "execution_count": 7,
   "metadata": {},
   "outputs": [],
   "source": [
    "embedded_problem, valid_flag = embed_problem_onto_hardware(problem_graph,\n",
    "                                                            hardware_graph,\n",
    "                                                            maxtime_sec=40,\n",
    "                                                            attempts=10)"
   ]
  },
  {
   "cell_type": "code",
   "execution_count": 8,
   "metadata": {},
   "outputs": [
    {
     "name": "stdout",
     "output_type": "stream",
     "text": [
      "Was successful: True\n"
     ]
    }
   ],
   "source": [
    "print(f'Was successful: {bool(valid_flag)}')"
   ]
  },
  {
   "cell_type": "code",
   "execution_count": 9,
   "metadata": {},
   "outputs": [
    {
     "data": {
      "text/plain": [
       "True"
      ]
     },
     "execution_count": 9,
     "metadata": {},
     "output_type": "execute_result"
    }
   ],
   "source": [
    "dwave.embedding.verify_embedding(embedded_problem,\n",
    "                                 problem_graph,\n",
    "                                 hardware_graph)"
   ]
  },
  {
   "cell_type": "code",
   "execution_count": 10,
   "metadata": {},
   "outputs": [
    {
     "data": {
      "text/plain": [
       "{0: [1728, 3578],\n",
       " 1: [3728],\n",
       " 2: [1653],\n",
       " 3: [1743],\n",
       " 4: [3624],\n",
       " 5: [3684],\n",
       " 6: [3699],\n",
       " 7: [1698],\n",
       " 8: [3654],\n",
       " 9: [1608],\n",
       " 10: [3577],\n",
       " 11: [3579],\n",
       " 12: [1623],\n",
       " 13: [3609],\n",
       " 14: [3669],\n",
       " 15: [1727],\n",
       " 16: [1713],\n",
       " 17: [3593],\n",
       " 18: [1758],\n",
       " 19: [3743],\n",
       " 20: [1683]}"
      ]
     },
     "execution_count": 10,
     "metadata": {},
     "output_type": "execute_result"
    }
   ],
   "source": [
    "embedded_problem"
   ]
  },
  {
   "cell_type": "code",
   "execution_count": 11,
   "metadata": {},
   "outputs": [],
   "source": [
    "embedded_qubo, convert_fn_sample = define_embedded_qubo_problem(\n",
    "                                    embedded_problem,\n",
    "                                    hardware_graph_edge_dict,\n",
    "                                    dwave_qubo)"
   ]
  },
  {
   "cell_type": "code",
   "execution_count": 12,
   "metadata": {},
   "outputs": [
    {
     "name": "stdout",
     "output_type": "stream",
     "text": [
      "number of variables: 22\n"
     ]
    }
   ],
   "source": [
    "embedded_bqm = dimod.BinaryQuadraticModel.from_qubo(embedded_qubo)\n",
    "print(f'number of variables: {len(embedded_bqm.variables)}')"
   ]
  },
  {
   "cell_type": "markdown",
   "metadata": {},
   "source": [
    "# run solver on embedded problem"
   ]
  },
  {
   "cell_type": "markdown",
   "metadata": {},
   "source": [
    "### Optional reverse anneal params\n",
    "\n",
    "see further info at:\n",
    "- [link](https://github.com/dwave-examples/reverse-annealing-notebook) for further details\n",
    "- [link2](https://docs.dwavesys.com/docs/latest/c_qpu_annealing.html)\n"
   ]
  },
  {
   "cell_type": "code",
   "execution_count": 23,
   "metadata": {},
   "outputs": [],
   "source": [
    "import numpy as np\n",
    "\n",
    "reverse_anneal = True\n",
    "\n",
    "if reverse_anneal is True:\n",
    "\n",
    "    ######## kwargs \n",
    "    ## anneal schedule can be changed here!\n",
    "    reverse_schedule = [[0.0, 1.0], [3, 0.45], [8, 0.45], [11, 1.0]]\n",
    "\n",
    "     ### random initial state (note for real problems should use good classical input / known structure of problem)\n",
    "    starting_state_non_embedded = {var: np.random.randint(0,2) for var in source_bqm.variables}\n",
    "\n",
    "    ## whether to re-init state in reverse anneal\n",
    "    reinitialize_state = True\n",
    "\n",
    "    \n",
    "    reverse_anneal_params = build_reverse_annealing_schedule_embedding(\n",
    "        starting_state_non_embedded,\n",
    "        source_bqm,\n",
    "        reverse_schedule,\n",
    "        reinitialize_state,\n",
    "        \n",
    "        embedded_bqm,\n",
    "        hardware_graph,\n",
    "        embedded_problem\n",
    "    )\n",
    "else:\n",
    "    reverse_anneal_params = dict()"
   ]
  },
  {
   "cell_type": "code",
   "execution_count": null,
   "metadata": {},
   "outputs": [],
   "source": [
    "## check aleady done in build_reverse_annealing_schedule_embedding funciton...\n",
    "##  BUT doing again in notebook to see it working explicitly\n",
    "\n",
    "# _, unembedded_test = unembed_samples(reverse_anneal_params['initial_state'],\n",
    "#                                                      embedded_problem, \n",
    "#                                                      source_bqm)\n",
    "# unembedded_test == starting_state_non_embedded"
   ]
  },
  {
   "cell_type": "code",
   "execution_count": null,
   "metadata": {},
   "outputs": [],
   "source": [
    "### chain strength\n",
    "# https://arxiv.org/pdf/2007.01730\n",
    "# https://dwave-systemdocs.readthedocs.io/en/master/reference/embedding.html\n",
    "\n",
    "from dwave.embedding.chain_strength import uniform_torque_compensation, scaled\n",
    "\n",
    "chain_strength = scaled(source_bqm, embedding=embedded_bqm, prefactor=1.414)\n",
    "chain_strength = uniform_torque_compensation(source_bqm, embedding=embedded_bqm, prefactor=1.414)\n",
    "chain_strength"
   ]
  },
  {
   "cell_type": "code",
   "execution_count": null,
   "metadata": {},
   "outputs": [],
   "source": [
    "DWAVE_API_TOKEN = input('please enter DWAVE TOKEN:')\n",
    "optimizer = dimod_optimizer_cloud(DWAVE_API_TOKEN,\n",
    "                                  reverse_anneal_params=reverse_anneal_params)"
   ]
  },
  {
   "cell_type": "code",
   "execution_count": null,
   "metadata": {},
   "outputs": [],
   "source": [
    "n_samples = 100\n",
    "\n",
    "embedded_sampleset, embedded_best_sample = optimizer.sample_qubo(embedded_qubo,\n",
    "                                                                  n_samples,\n",
    "                                                                  chain_strength=chain_strength)"
   ]
  },
  {
   "cell_type": "markdown",
   "metadata": {},
   "source": [
    "# Convert output into original problem form"
   ]
  },
  {
   "cell_type": "code",
   "execution_count": null,
   "metadata": {},
   "outputs": [],
   "source": [
    "unembedded_samples, unembedded_best = unembed_samples(embedded_sampleset,\n",
    "                                                     embedded_problem, \n",
    "                                                   source_bqm)\n",
    "unembedded_samples"
   ]
  },
  {
   "cell_type": "code",
   "execution_count": null,
   "metadata": {},
   "outputs": [],
   "source": [
    "source_bqm.energy(unembedded_best)"
   ]
  },
  {
   "cell_type": "markdown",
   "metadata": {},
   "source": [
    "# check against exact answer:"
   ]
  },
  {
   "cell_type": "code",
   "execution_count": null,
   "metadata": {},
   "outputs": [],
   "source": [
    "solver = dimod.ExactSolver()\n",
    "out = dimod.ExactSolver().sample_qubo(dwave_qubo)\n",
    "source_bqm.energy(out.first.sample)"
   ]
  },
  {
   "cell_type": "code",
   "execution_count": null,
   "metadata": {},
   "outputs": [],
   "source": [
    "embedded_bqm.energy(embedded_best_sample)"
   ]
  },
  {
   "cell_type": "code",
   "execution_count": null,
   "metadata": {},
   "outputs": [],
   "source": [
    "# dimod.BinaryQuadraticModel.from_serializable(source_bqm.to_serializable())"
   ]
  },
  {
   "cell_type": "markdown",
   "metadata": {},
   "source": [
    "# save output\n",
    "\n",
    "Extra data added to seperate dict:\n",
    "- the parent BQM\n",
    "- the embedded problem\n",
    "- problem_graph\n",
    "- hardware_graph"
   ]
  },
  {
   "cell_type": "code",
   "execution_count": null,
   "metadata": {},
   "outputs": [],
   "source": [
    "# nx.to_dict_of_dicts(problem_graph)"
   ]
  },
  {
   "cell_type": "code",
   "execution_count": null,
   "metadata": {},
   "outputs": [],
   "source": [
    "extra_dictionary = {\n",
    "    'source_bqm'      : source_bqm.to_serializable(),\n",
    "    'embedded_bqm'    : embedded_bqm.to_serializable(),\n",
    "    # 'embedded_qubo'   : embedded_qubo,\n",
    "    # 'dwave_qubo'      : dwave_qubo,\n",
    "    \n",
    "    'embedded_problem': embedded_problem,\n",
    "    'problem_graph'   : nx.adjacency_matrix(problem_graph, weight='bias').todense().tolist(),\n",
    "    'hardware_graph'  : nx.adjacency_matrix(hardware_graph, weight='bias').todense().tolist(),\n",
    "    \n",
    "        }"
   ]
  },
  {
   "cell_type": "code",
   "execution_count": null,
   "metadata": {},
   "outputs": [],
   "source": [
    "output_file_path = save_annealing_results(embedded_sampleset,\n",
    "                        extra_ending='test_exp',\n",
    "                        verbose=False,\n",
    "                        extra_dictionary=extra_dictionary,\n",
    "                        zip_data=True)"
   ]
  },
  {
   "cell_type": "code",
   "execution_count": null,
   "metadata": {},
   "outputs": [],
   "source": []
  },
  {
   "cell_type": "code",
   "execution_count": null,
   "metadata": {},
   "outputs": [],
   "source": [
    "from dwave.embedding import EmbeddedStructure\n",
    "from dwave.embedding.utils import adjacency_to_edges\n",
    "target_edges = adjacency_to_edges(hardware_graph)\n",
    "EmbeddedStructure_problem = EmbeddedStructure(target_edges, embedded_problem)\n",
    "EmbeddedStructure_problem"
   ]
  },
  {
   "cell_type": "code",
   "execution_count": null,
   "metadata": {},
   "outputs": [],
   "source": [
    "EmbeddedStructure_problem = EmbeddedStructure(hardware_graph.edges(), ## <--- same as above!\n",
    "                                               embedded_problem)\n",
    "EmbeddedStructure_problem"
   ]
  },
  {
   "cell_type": "code",
   "execution_count": null,
   "metadata": {},
   "outputs": [],
   "source": []
  },
  {
   "cell_type": "code",
   "execution_count": null,
   "metadata": {},
   "outputs": [],
   "source": []
  },
  {
   "cell_type": "code",
   "execution_count": null,
   "metadata": {},
   "outputs": [],
   "source": [
    "EmbeddedStructure_problem = EmbeddedStructure(hardware_graph.edges(), ## <--- same as above!\n",
    "                                               embedded_problem)\n",
    "EmbeddedStructure_problem"
   ]
  },
  {
   "cell_type": "code",
   "execution_count": null,
   "metadata": {},
   "outputs": [],
   "source": [
    "initial_state = {var: np.random.randint(0,2) for var in source_bqm.variables}\n",
    "\n",
    "### get energy of this state!\n",
    "E0 = source_bqm.energy(initial_state)\n",
    "## Put everything in the correct format\n",
    "initial_state_sampleset = dimod.SampleSet.from_samples(initial_state, \n",
    "                                                    energy=[E0], \n",
    "                                                    vartype=dimod.vartypes.Vartype.BINARY)\n",
    "\n",
    "\n",
    "initial_state_embedded = {val: initial_state[key] for key, terms in EmbeddedStructure_problem.items() for val in terms}\n",
    "E0_embedded = embedded_bqm.energy(initial_state_embedded)\n",
    "\n",
    "embedded_inital_state_sampleset = dimod.SampleSet.from_samples(initial_state_embedded, \n",
    "                                                    energy=[E0_embedded], \n",
    "                                                    vartype=dimod.vartypes.Vartype.BINARY)"
   ]
  },
  {
   "cell_type": "code",
   "execution_count": null,
   "metadata": {},
   "outputs": [],
   "source": [
    "checker, best = unembed_samples(embedded_inital_state_sampleset,\n",
    "                            embedded_problem, \n",
    "                            source_bqm)\n",
    "checker"
   ]
  },
  {
   "cell_type": "code",
   "execution_count": null,
   "metadata": {},
   "outputs": [],
   "source": [
    "best == initial_state_sampleset.first.sample"
   ]
  },
  {
   "cell_type": "code",
   "execution_count": null,
   "metadata": {},
   "outputs": [],
   "source": []
  },
  {
   "cell_type": "markdown",
   "metadata": {},
   "source": []
  }
 ],
 "metadata": {
  "kernelspec": {
   "display_name": "dwave310",
   "language": "python",
   "name": "python3"
  },
  "language_info": {
   "codemirror_mode": {
    "name": "ipython",
    "version": 3
   },
   "file_extension": ".py",
   "mimetype": "text/x-python",
   "name": "python",
   "nbconvert_exporter": "python",
   "pygments_lexer": "ipython3",
   "version": "3.10.16"
  }
 },
 "nbformat": 4,
 "nbformat_minor": 2
}
