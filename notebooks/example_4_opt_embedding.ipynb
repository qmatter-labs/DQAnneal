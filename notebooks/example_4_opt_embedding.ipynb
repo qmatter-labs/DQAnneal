{
 "cells": [
  {
   "cell_type": "code",
   "execution_count": 3,
   "metadata": {},
   "outputs": [],
   "source": [
    "import networkx as nx\n",
    "import dwave_networkx as dnx\n",
    "\n",
    "from dqanneal.graph.embed import (get_problem_graph, \n",
    "                                  embed_problem_onto_hardware, \n",
    "                                  define_embedded_qubo_problem,\n",
    "                                  unembed_samples,\n",
    "                                  build_reverse_annealing_schedule_embedding)\n",
    "from dqanneal.solvers.solvers import dimod_optimizer_cloud, save_annealing_results\n",
    "import numpy as np"
   ]
  },
  {
   "cell_type": "code",
   "execution_count": 4,
   "metadata": {},
   "outputs": [
    {
     "name": "stdout",
     "output_type": "stream",
     "text": [
      "1.2\n",
      "1.0\n"
     ]
    }
   ],
   "source": [
    "## quark and oeip embedding versions\n",
    "\n",
    "# import quark\n",
    "# import oeip\n",
    "import importlib.metadata\n",
    "print(importlib.metadata.version('quark'))\n",
    "print(importlib.metadata.version('oeip'))"
   ]
  },
  {
   "cell_type": "code",
   "execution_count": 5,
   "metadata": {},
   "outputs": [
    {
     "name": "stdout",
     "output_type": "stream",
     "text": [
      "0.12.18\n",
      "0.2.17\n",
      "8.2.0\n"
     ]
    }
   ],
   "source": [
    "import dimod\n",
    "import minorminer\n",
    "import dwave # same as: dwave-ocean-sdk  \n",
    "import dwaveoceansdk\n",
    "\n",
    "\n",
    "print(dimod.__version__)\n",
    "print(minorminer.__version__)\n",
    "print(dwaveoceansdk.__version__)\n"
   ]
  },
  {
   "cell_type": "code",
   "execution_count": 6,
   "metadata": {},
   "outputs": [],
   "source": [
    "from dwave import embedding"
   ]
  },
  {
   "cell_type": "markdown",
   "metadata": {},
   "source": [
    "# Define the QUBO problem"
   ]
  },
  {
   "cell_type": "code",
   "execution_count": 7,
   "metadata": {},
   "outputs": [
    {
     "data": {
      "text/plain": [
       "{(1, 1): 8,\n",
       " (1, 2): 3,\n",
       " (1, 3): 8,\n",
       " (1, 4): 7,\n",
       " (1, 5): 5,\n",
       " (1, 6): 3,\n",
       " (2, 2): 5,\n",
       " (2, 3): 1,\n",
       " (2, 4): 8,\n",
       " (2, 5): 9,\n",
       " (2, 6): 9,\n",
       " (3, 3): 9,\n",
       " (3, 4): 1,\n",
       " (3, 5): 4,\n",
       " (3, 6): 3,\n",
       " (4, 4): 4,\n",
       " (4, 5): 6,\n",
       " (4, 6): 3,\n",
       " (5, 5): 2,\n",
       " (5, 6): 8,\n",
       " (6, 6): 8}"
      ]
     },
     "execution_count": 7,
     "metadata": {},
     "output_type": "execute_result"
    }
   ],
   "source": [
    "dwave_qubo = dict()\n",
    "for i in range(1,7):\n",
    "    for j in range(i,7):\n",
    "        dwave_qubo[(i,j)] = np.random.randint(1,10)\n",
    "\n",
    "dwave_qubo\n"
   ]
  },
  {
   "cell_type": "code",
   "execution_count": 8,
   "metadata": {},
   "outputs": [],
   "source": [
    "# dwave_qubo = {val: key*1000 for val, key in dwave_qubo.items()}"
   ]
  },
  {
   "cell_type": "code",
   "execution_count": 9,
   "metadata": {},
   "outputs": [
    {
     "name": "stdout",
     "output_type": "stream",
     "text": [
      "numbera of variables: 6\n"
     ]
    }
   ],
   "source": [
    "source_bqm = dimod.BinaryQuadraticModel.from_qubo(dwave_qubo)\n",
    "lin, quad, offset = source_bqm.to_ising()\n",
    "source_ising = dimod.BinaryQuadraticModel.from_ising(lin, quad, offset)\n",
    "\n",
    "print(f'numbera of variables: {len(source_ising.variables)}')"
   ]
  },
  {
   "cell_type": "code",
   "execution_count": 10,
   "metadata": {},
   "outputs": [
    {
     "data": {
      "text/plain": [
       "{(2, 1): np.float64(0.75),\n",
       " (2, 3): np.float64(0.25),\n",
       " (2, 4): np.float64(2.0),\n",
       " (2, 5): np.float64(2.25),\n",
       " (2, 6): np.float64(2.25),\n",
       " (1, 3): np.float64(2.0),\n",
       " (1, 4): np.float64(1.75),\n",
       " (1, 5): np.float64(1.25),\n",
       " (1, 6): np.float64(0.75),\n",
       " (3, 4): np.float64(0.25),\n",
       " (3, 5): np.float64(1.0),\n",
       " (3, 6): np.float64(0.75),\n",
       " (4, 5): np.float64(1.5),\n",
       " (4, 6): np.float64(0.75),\n",
       " (5, 6): np.float64(2.0)}"
      ]
     },
     "execution_count": 10,
     "metadata": {},
     "output_type": "execute_result"
    }
   ],
   "source": [
    "problem_graph, node_edge_dict= get_problem_graph(source_ising)\n",
    "nx.get_edge_attributes(problem_graph, \"bias\")"
   ]
  },
  {
   "cell_type": "code",
   "execution_count": null,
   "metadata": {},
   "outputs": [],
   "source": []
  },
  {
   "cell_type": "code",
   "execution_count": 11,
   "metadata": {},
   "outputs": [],
   "source": [
    "from dqanneal.graph.embed import create_king_graph\n",
    "\n",
    "hardware_graph, hardware_graph_edge_dict, pos = create_king_graph(4,4)\n",
    "# nx.draw(hardware_graph,pos, with_labels = True)"
   ]
  },
  {
   "cell_type": "code",
   "execution_count": 12,
   "metadata": {},
   "outputs": [],
   "source": [
    "embedded_problem, valid_flag = embed_problem_onto_hardware(problem_graph,\n",
    "                                                            hardware_graph,\n",
    "                                                            maxtime_sec=40,\n",
    "                                                            attempts=10)\n"
   ]
  },
  {
   "cell_type": "code",
   "execution_count": 13,
   "metadata": {},
   "outputs": [
    {
     "data": {
      "text/plain": [
       "True"
      ]
     },
     "execution_count": 13,
     "metadata": {},
     "output_type": "execute_result"
    }
   ],
   "source": [
    "bool(valid_flag)"
   ]
  },
  {
   "cell_type": "code",
   "execution_count": 14,
   "metadata": {},
   "outputs": [],
   "source": [
    "from dqanneal.graph.embed import opt_embedding_quark_ising\n",
    "obj_true, obj_emd, bqm_emb = opt_embedding_quark_ising(embedded_problem,\n",
    "                                                        hardware_graph,\n",
    "                                                        lin,\n",
    "                                                        quad,\n",
    "                                                        offset\n",
    "                                                        )\n"
   ]
  },
  {
   "cell_type": "code",
   "execution_count": 15,
   "metadata": {},
   "outputs": [
    {
     "data": {
      "text/plain": [
       "('optimal', 0.0, {1: -1, 2: -1, 3: -1, 4: -1, 5: -1, 6: -1})"
      ]
     },
     "execution_count": 15,
     "metadata": {},
     "output_type": "execute_result"
    }
   ],
   "source": [
    "from quark import ScipModel\n",
    "model = ScipModel.get_from_objective(obj_true)\n",
    "solution = model.solve()\n",
    "soln_dict = dict(solution.items())\n",
    "soln_dict\n",
    "solution.solving_status, solution.objective_value, soln_dict"
   ]
  },
  {
   "cell_type": "code",
   "execution_count": 16,
   "metadata": {},
   "outputs": [
    {
     "data": {
      "text/plain": [
       "np.float64(0.0)"
      ]
     },
     "execution_count": 16,
     "metadata": {},
     "output_type": "execute_result"
    }
   ],
   "source": [
    "source_ising.energy(soln_dict)"
   ]
  },
  {
   "cell_type": "code",
   "execution_count": 17,
   "metadata": {},
   "outputs": [
    {
     "data": {
      "text/plain": [
       "np.float64(0.0)"
      ]
     },
     "execution_count": 17,
     "metadata": {},
     "output_type": "execute_result"
    }
   ],
   "source": [
    "exact = dimod.ExactSolver().sample_ising(lin, quad)\n",
    "exact_out = exact.first.sample\n",
    "source_ising.energy(exact_out)"
   ]
  },
  {
   "cell_type": "code",
   "execution_count": 18,
   "metadata": {},
   "outputs": [
    {
     "data": {
      "text/plain": [
       "True"
      ]
     },
     "execution_count": 18,
     "metadata": {},
     "output_type": "execute_result"
    }
   ],
   "source": [
    "exact_out == soln_dict"
   ]
  },
  {
   "cell_type": "code",
   "execution_count": 19,
   "metadata": {},
   "outputs": [
    {
     "data": {
      "text/plain": [
       "True"
      ]
     },
     "execution_count": 19,
     "metadata": {},
     "output_type": "execute_result"
    }
   ],
   "source": [
    "model_emb = ScipModel.get_from_objective(obj_emd)\n",
    "solution_emb = model_emb.solve()\n",
    "soln_dict_emb = dict(solution_emb.items())\n",
    "\n",
    "## Put everything in the correct format\n",
    "soln_dict_emb_sampleset = dimod.SampleSet.from_samples(soln_dict_emb, \n",
    "                                                    energy=[solution_emb.objective_value], \n",
    "                                                    vartype=dimod.vartypes.Vartype.SPIN \n",
    "                                                    )\n",
    "converted_samples = embedding.unembed_sampleset(\n",
    "                                soln_dict_emb_sampleset,\n",
    "                                embedded_problem, \n",
    "                                source_ising)\n",
    "\n",
    "converted_samples.first.sample == exact.first.sample"
   ]
  },
  {
   "cell_type": "code",
   "execution_count": null,
   "metadata": {},
   "outputs": [],
   "source": []
  }
 ],
 "metadata": {
  "kernelspec": {
   "display_name": "dwave310",
   "language": "python",
   "name": "python3"
  },
  "language_info": {
   "codemirror_mode": {
    "name": "ipython",
    "version": 3
   },
   "file_extension": ".py",
   "mimetype": "text/x-python",
   "name": "python",
   "nbconvert_exporter": "python",
   "pygments_lexer": "ipython3",
   "version": "3.11.11"
  }
 },
 "nbformat": 4,
 "nbformat_minor": 2
}
