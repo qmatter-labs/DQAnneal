{
 "cells": [
  {
   "cell_type": "code",
   "execution_count": 1,
   "metadata": {},
   "outputs": [],
   "source": [
    "from dqanneal.graph.embed import (get_problem_graph, \n",
    "                                  embed_problem_onto_hardware, \n",
    "                                  define_embedded_qubo_problem,\n",
    "                                  unembed_samples)\n",
    "from dqanneal.solvers.solvers import dimod_optimizer_local, save_annealing_results\n",
    "import dimod"
   ]
  },
  {
   "cell_type": "code",
   "execution_count": 2,
   "metadata": {},
   "outputs": [],
   "source": [
    "dwave_qubo = {\n",
    "    (0, 0):  -1,\n",
    "    (0, 1):   2,\n",
    "    (0, 2):  -3,\n",
    "    (0, 3):   4,\n",
    "    (0, 4):  -5,\n",
    "    (0, 5):   6,\n",
    "    (0, 6):  -7,\n",
    "    (0, 7):   8,\n",
    "    (0, 8):  -9,\n",
    "    (0, 9):   10,\n",
    "    (0, 10): -11,\n",
    "    (0, 11):  12,\n",
    "    (0, 12): -13,\n",
    "    (0, 13):  14,\n",
    "    (0, 14): -15,\n",
    "    (0, 15):  16,\n",
    "    (0, 16): -17,\n",
    "    (0, 17):  18,\n",
    "    (0, 18): -19,\n",
    "    (0, 19):  20,\n",
    "    (0, 20): -21,\n",
    "    (4, 16):  22,\n",
    "    (1, 19): -23,\n",
    "    }"
   ]
  },
  {
   "cell_type": "code",
   "execution_count": 3,
   "metadata": {},
   "outputs": [
    {
     "name": "stdout",
     "output_type": "stream",
     "text": [
      "number of variables: 21\n"
     ]
    }
   ],
   "source": [
    "source_bqm = dimod.BinaryQuadraticModel.from_qubo(dwave_qubo)\n",
    "print(f'number of variables: {len(source_bqm.variables)}')"
   ]
  },
  {
   "cell_type": "code",
   "execution_count": 4,
   "metadata": {},
   "outputs": [],
   "source": [
    "problem_graph, problem_edge_dict = get_problem_graph(dwave_qubo)"
   ]
  },
  {
   "cell_type": "code",
   "execution_count": 5,
   "metadata": {},
   "outputs": [],
   "source": [
    "### need to setup dwave leap token access for this\n",
    "\n",
    "# from dwave.system.samplers import DWaveSampler\n",
    "# import networkx as nx\n",
    "# sampler_dw = DWaveSampler(solver={'topology__type': 'pegasus'})\n",
    "# G = nx.from_dict_of_lists(sampler_dw.adjacency)\n",
    "# edge_dict = {node: set(G.neighbors(node)) for node in G.nodes}"
   ]
  },
  {
   "cell_type": "code",
   "execution_count": 6,
   "metadata": {},
   "outputs": [],
   "source": [
    "import networkx as nx\n",
    "import dwave_networkx as dnx\n",
    "\n",
    "# https://docs.ocean.dwavesys.com/en/latest/docs_dnx/reference/generators.html\n",
    "# G = dnx.chimera_graph(1, 1, 4)\n",
    "# G = dnx.zephyr_graph(6)\n",
    "\n",
    "# https://github.com/dwave-examples/pegasus-notebook/blob/master/01-exploring-pegasus.ipynb\n",
    "hardware_graph = dnx.pegasus_graph(16)\n",
    "hardware_graph_edge_dict = {node: set(hardware_graph.neighbors(node)) for node in hardware_graph.nodes}"
   ]
  },
  {
   "cell_type": "code",
   "execution_count": 7,
   "metadata": {},
   "outputs": [],
   "source": [
    "embedded_problem, valid_flag = embed_problem_onto_hardware(problem_graph,\n",
    "                                                            hardware_graph,\n",
    "                                                            maxtime_sec=30,\n",
    "                                                            attempts=10)"
   ]
  },
  {
   "cell_type": "code",
   "execution_count": 8,
   "metadata": {},
   "outputs": [
    {
     "name": "stdout",
     "output_type": "stream",
     "text": [
      "Was successful: True\n"
     ]
    }
   ],
   "source": [
    "print(f'Was successful: {bool(valid_flag)}')"
   ]
  },
  {
   "cell_type": "code",
   "execution_count": 9,
   "metadata": {},
   "outputs": [
    {
     "data": {
      "text/plain": [
       "{0: [5552, 539],\n",
       " 1: [524],\n",
       " 2: [5627],\n",
       " 3: [569],\n",
       " 4: [5567],\n",
       " 5: [5507],\n",
       " 6: [5551],\n",
       " 7: [629],\n",
       " 8: [554],\n",
       " 9: [5537],\n",
       " 10: [644],\n",
       " 11: [5582],\n",
       " 12: [659],\n",
       " 13: [5522],\n",
       " 14: [584],\n",
       " 15: [689],\n",
       " 16: [614],\n",
       " 17: [5657],\n",
       " 18: [538],\n",
       " 19: [5597],\n",
       " 20: [5492]}"
      ]
     },
     "execution_count": 9,
     "metadata": {},
     "output_type": "execute_result"
    }
   ],
   "source": [
    "embedded_problem"
   ]
  },
  {
   "cell_type": "code",
   "execution_count": 10,
   "metadata": {},
   "outputs": [],
   "source": [
    "embedded_qubo, convert_fn_sample = define_embedded_qubo_problem(\n",
    "                                    embedded_problem,\n",
    "                                    hardware_graph_edge_dict,\n",
    "                                    dwave_qubo)"
   ]
  },
  {
   "cell_type": "code",
   "execution_count": 11,
   "metadata": {},
   "outputs": [
    {
     "name": "stdout",
     "output_type": "stream",
     "text": [
      "number of variables: 22\n"
     ]
    }
   ],
   "source": [
    "embedded_bqm = dimod.BinaryQuadraticModel.from_qubo(embedded_qubo)\n",
    "print(f'number of variables: {len(embedded_bqm.variables)}')"
   ]
  },
  {
   "cell_type": "code",
   "execution_count": null,
   "metadata": {},
   "outputs": [],
   "source": []
  },
  {
   "cell_type": "code",
   "execution_count": 12,
   "metadata": {},
   "outputs": [
    {
     "name": "stderr",
     "output_type": "stream",
     "text": [
      "/Users/lex/anaconda3/envs/dwave310/lib/python3.10/site-packages/dimod/core/sampler.py:292: SamplerUnknownArgWarning: Ignoring unknown kwarg: 'num_reads'\n",
      "  return self.sample(bqm, **parameters)\n"
     ]
    }
   ],
   "source": [
    "optimizer = dimod_optimizer_local(optimizer_type='ExactSolver')\n",
    "embedded_sampleset, embedded_best_sample = optimizer.sample_qubo(embedded_qubo, 500)"
   ]
  },
  {
   "cell_type": "code",
   "execution_count": 13,
   "metadata": {},
   "outputs": [
    {
     "data": {
      "text/plain": [
       "SampleSet(rec.array([([0, 0, 0, 0, 0, 0, 0, 0, 0, 0, 0, 0, 0, 0, 0, 0, 0, 0, 0, 0, 0, 0],   0.        , 1),\n",
       "           ([0, 0, 1, 0, 0, 0, 0, 0, 0, 0, 0, 0, 0, 0, 0, 0, 0, 0, 0, 0, 0, 0],  56.88222359, 1),\n",
       "           ([0, 0, 1, 0, 0, 0, 0, 0, 0, 0, 0, 0, 0, 0, 0, 0, 1, 0, 0, 0, 0, 0],  -1.        , 1),\n",
       "           ...,\n",
       "           ([0, 0, 1, 0, 0, 0, 0, 0, 0, 0, 0, 1, 0, 0, 0, 0, 1, 0, 0, 0, 0, 0], -22.        , 1),\n",
       "           ([0, 0, 1, 0, 0, 0, 0, 0, 0, 0, 0, 1, 0, 0, 0, 0, 0, 0, 0, 0, 0, 0],  35.88222359, 1),\n",
       "           ([0, 0, 0, 0, 0, 0, 0, 0, 0, 0, 0, 1, 0, 0, 0, 0, 0, 0, 0, 0, 0, 0],   0.        , 1)],\n",
       "          dtype=[('sample', 'i1', (22,)), ('energy', '<f8'), ('num_occurrences', '<i8')]), Variables([524, 538, 539, 554, 569, 584, 614, 629, 644, 659, 689, 5492, 5507, 5522, 5537, 5551, 5552, 5567, 5582, 5597, 5627, 5657]), {}, 'BINARY')"
      ]
     },
     "execution_count": 13,
     "metadata": {},
     "output_type": "execute_result"
    }
   ],
   "source": [
    "embedded_sampleset"
   ]
  },
  {
   "cell_type": "code",
   "execution_count": 14,
   "metadata": {},
   "outputs": [
    {
     "data": {
      "text/plain": [
       "SampleSet(rec.array([([0, 0, 0, 0, 0, 0, 0, 0, 0, 0, 0, 0, 0, 0, 0, 0, 0, 0, 0, 0, 0],   0., 1),\n",
       "           ([1, 0, 0, 0, 0, 0, 0, 0, 0, 0, 0, 0, 0, 0, 0, 0, 0, 0, 0, 0, 0],  -1., 1),\n",
       "           ([1, 0, 0, 0, 0, 0, 0, 0, 0, 0, 0, 0, 0, 0, 0, 0, 0, 0, 0, 0, 0],  -1., 1),\n",
       "           ...,\n",
       "           ([1, 0, 0, 0, 0, 0, 0, 0, 0, 0, 0, 0, 0, 0, 0, 0, 0, 0, 0, 0, 1], -22., 1),\n",
       "           ([1, 0, 0, 0, 0, 0, 0, 0, 0, 0, 0, 0, 0, 0, 0, 0, 0, 0, 0, 0, 1], -22., 1),\n",
       "           ([0, 0, 0, 0, 0, 0, 0, 0, 0, 0, 0, 0, 0, 0, 0, 0, 0, 0, 0, 0, 1],   0., 1)],\n",
       "          dtype=[('sample', 'i1', (21,)), ('energy', '<f8'), ('num_occurrences', '<i8')]), Variables(range(0, 21)), {}, 'BINARY')"
      ]
     },
     "execution_count": 14,
     "metadata": {},
     "output_type": "execute_result"
    }
   ],
   "source": [
    "converted_samples, converted_best_sample = unembed_samples(embedded_sampleset,\n",
    "                                    embedded_problem, \n",
    "                                    source_bqm)\n",
    "converted_samples"
   ]
  },
  {
   "cell_type": "code",
   "execution_count": null,
   "metadata": {},
   "outputs": [],
   "source": []
  },
  {
   "cell_type": "code",
   "execution_count": 15,
   "metadata": {},
   "outputs": [
    {
     "data": {
      "text/plain": [
       "np.float64(-117.0)"
      ]
     },
     "execution_count": 15,
     "metadata": {},
     "output_type": "execute_result"
    }
   ],
   "source": [
    "solver = dimod.ExactSolver()\n",
    "out = dimod.ExactSolver().sample_qubo(dwave_qubo)\n",
    "source_bqm.energy(out.first.sample)"
   ]
  },
  {
   "cell_type": "code",
   "execution_count": 16,
   "metadata": {},
   "outputs": [
    {
     "data": {
      "text/plain": [
       "np.float64(-117.0)"
      ]
     },
     "execution_count": 16,
     "metadata": {},
     "output_type": "execute_result"
    }
   ],
   "source": [
    "embedded_bqm.energy(embedded_best_sample)"
   ]
  },
  {
   "cell_type": "code",
   "execution_count": 19,
   "metadata": {},
   "outputs": [],
   "source": [
    "unembedded_samples, unembedded_best = unembed_samples(embedded_sampleset,\n",
    "                                    embedded_problem, \n",
    "                                    source_bqm)"
   ]
  },
  {
   "cell_type": "code",
   "execution_count": 20,
   "metadata": {},
   "outputs": [
    {
     "data": {
      "text/plain": [
       "np.float64(-117.0)"
      ]
     },
     "execution_count": 20,
     "metadata": {},
     "output_type": "execute_result"
    }
   ],
   "source": [
    "source_bqm.energy(unembedded_best)"
   ]
  },
  {
   "cell_type": "code",
   "execution_count": 21,
   "metadata": {},
   "outputs": [],
   "source": [
    "# dimod.BinaryQuadraticModel.from_serializable(source_bqm.to_serializable())"
   ]
  },
  {
   "cell_type": "code",
   "execution_count": 22,
   "metadata": {},
   "outputs": [],
   "source": [
    "extra_dictionary = {\n",
    "    'source_bqm':source_bqm.to_serializable(),\n",
    "    'embedded_problem': embedded_problem\n",
    "}"
   ]
  },
  {
   "cell_type": "code",
   "execution_count": 24,
   "metadata": {},
   "outputs": [],
   "source": [
    "output_file_path = save_annealing_results(embedded_sampleset,\n",
    "                        extra_ending='test',\n",
    "                        verbose=False,\n",
    "                        extra_dictionary=extra_dictionary)"
   ]
  },
  {
   "cell_type": "markdown",
   "metadata": {},
   "source": []
  }
 ],
 "metadata": {
  "kernelspec": {
   "display_name": "dwave310",
   "language": "python",
   "name": "python3"
  },
  "language_info": {
   "codemirror_mode": {
    "name": "ipython",
    "version": 3
   },
   "file_extension": ".py",
   "mimetype": "text/x-python",
   "name": "python",
   "nbconvert_exporter": "python",
   "pygments_lexer": "ipython3",
   "version": "3.10.16"
  }
 },
 "nbformat": 4,
 "nbformat_minor": 2
}
